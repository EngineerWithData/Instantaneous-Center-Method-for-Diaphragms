{
  "nbformat": 4,
  "nbformat_minor": 0,
  "metadata": {
    "colab": {
      "provenance": [],
      "authorship_tag": "ABX9TyOQuaISPkHK5PmGXsvhz7Gw",
      "include_colab_link": true
    },
    "kernelspec": {
      "name": "python3",
      "display_name": "Python 3"
    },
    "language_info": {
      "name": "python"
    }
  },
  "cells": [
    {
      "cell_type": "markdown",
      "metadata": {
        "id": "view-in-github",
        "colab_type": "text"
      },
      "source": [
        "<a href=\"https://colab.research.google.com/github/hyeyoungkoh/Instantaneous-Center-Method-for-Diaphragms/blob/main/test.ipynb\" target=\"_parent\"><img src=\"https://colab.research.google.com/assets/colab-badge.svg\" alt=\"Open In Colab\"/></a>"
      ]
    },
    {
      "cell_type": "code",
      "execution_count": null,
      "metadata": {
        "id": "5gng2Hp4rldp",
        "colab": {
          "base_uri": "https://localhost:8080/",
          "height": 418
        },
        "outputId": "a5ac9c27-7213-4baa-9dba-00852eb6945b"
      },
      "outputs": [
        {
          "output_type": "error",
          "ename": "ModuleNotFoundError",
          "evalue": "ignored",
          "traceback": [
            "\u001b[0;31m---------------------------------------------------------------------------\u001b[0m",
            "\u001b[0;31mModuleNotFoundError\u001b[0m                       Traceback (most recent call last)",
            "\u001b[0;32m<ipython-input-1-061d11dc6c36>\u001b[0m in \u001b[0;36m<cell line: 1>\u001b[0;34m()\u001b[0m\n\u001b[0;32m----> 1\u001b[0;31m \u001b[0;32mfrom\u001b[0m \u001b[0mgroup\u001b[0m \u001b[0;32mimport\u001b[0m \u001b[0;34m*\u001b[0m\u001b[0;34m\u001b[0m\u001b[0;34m\u001b[0m\u001b[0m\n\u001b[0m\u001b[1;32m      2\u001b[0m \u001b[0;32mfrom\u001b[0m \u001b[0mIC\u001b[0m \u001b[0;32mimport\u001b[0m \u001b[0;34m*\u001b[0m\u001b[0;34m\u001b[0m\u001b[0;34m\u001b[0m\u001b[0m\n\u001b[1;32m      3\u001b[0m \u001b[0;34m\u001b[0m\u001b[0m\n\u001b[1;32m      4\u001b[0m \u001b[0;31m# To estimate the shear strength of a diaphragm that includes fasteners, you need first have the fastener coordinates first. You can use group functions defined in 'group.py', which include four functions of 'support_group' for interior support fasteners, 'end_group' for end support fasteners, 'edge_group' for edge support fasteners, and 'side_group' for side-lap fasteners.\u001b[0m\u001b[0;34m\u001b[0m\u001b[0;34m\u001b[0m\u001b[0m\n\u001b[1;32m      5\u001b[0m \u001b[0;31m# 7 specimens (Pinkham 1999 - Specimens 50-54 and Essa 20003 - Specimens 11 and 15) from the SDII database are used for comparisons between experimental results and ICM results. You can pick one of the examples listed below to have fasteners' coordinates of the specimens.\u001b[0m\u001b[0;34m\u001b[0m\u001b[0;34m\u001b[0m\u001b[0m\n",
            "\u001b[0;31mModuleNotFoundError\u001b[0m: No module named 'group'",
            "",
            "\u001b[0;31m---------------------------------------------------------------------------\u001b[0;32m\nNOTE: If your import is failing due to a missing package, you can\nmanually install dependencies using either !pip or !apt.\n\nTo view examples of installing some common dependencies, click the\n\"Open Examples\" button below.\n\u001b[0;31m---------------------------------------------------------------------------\u001b[0m\n"
          ],
          "errorDetails": {
            "actions": [
              {
                "action": "open_url",
                "actionText": "Open Examples",
                "url": "/notebooks/snippets/importing_libraries.ipynb"
              }
            ]
          }
        }
      ],
      "source": [
        "from group import *\n",
        "from IC import *\n",
        "\n",
        "# To estimate the shear strength of a diaphragm that includes fasteners, you need first have the coordinates of those fasteners.\n",
        "# The 'group.py' file provides group functions to help with this. It contains: 'support_group' for interior support fasteners; 'end_group' for end support fasteners; 'edge_group' for edge support fasteners; and 'side_group' for side-lap fasteners.\n",
        "# For comparison purposes, we have used data from 7 specimens in the SDII database: Pinkham (1999) has specimens 50 through 54 and Essa (2003) provides specimens 11 and 15. You can select any of these examples to obtain the coordinates for the fasteners in those specimens.\n",
        "# To manually obtain the coordinates of the fasteners, input values into the group functions. Each function requires four inputs:  Number of columns, Number of rows, Column spacing, Row spacing.\n",
        "\n",
        "# #Pinkham 50, 51\n",
        "# support_x, support_y = support_group(2,31,5*12,6)\n",
        "# end_x,end_y = end_group(2,25,15*12,15*12/26)\n",
        "# edge_x, edge_y = support_group(18, 2, 10, 15*12)\n",
        "# side_x, side_y = side_group(27, 4, 15*12/28, 36)\n",
        "\n",
        "#Pinkham 52, 54\n",
        "# support_x, support_y = support_group(1,22,10*12,21*12/23)\n",
        "# end_x, end_y = end_group(2,14,20*12,21*12/15)\n",
        "# edge_x, edge_y = support_group(18, 2, 20*12/19, 21*12)\n",
        "# side_x, side_y = side_group(8, 6, 20*12/9, 36)\n",
        "\n",
        "#Pinkham 53\n",
        "# support_x, support_y = support_group(1,43,10*12,21*12/44)\n",
        "# end_x,end_y = end_group(2,35,20*12,21*12/36)\n",
        "# edge_x, edge_y = support_group(18, 2, 20*12/19, 21*12)\n",
        "# side_x, side_y = side_group(8, 6, 20*12/9, 36)\n",
        "\n",
        "#Essa 11, 15\n",
        "# support_x, support_y = support_group(3, 13, 12*5, 12)\n",
        "# end_x,end_y = end_group(2, 8, 20*12, 12*12/9)\n",
        "# edge_x, edge_y = edge_group(16, 2, 20*12/17, 12*12)\n",
        "# side_x, side_y = side_group(16, 3, 20*12/17, 36)\n",
        "\n",
        "#WB in DDS 1st Ed, no side\n",
        "support_x, support_y = support_group(4, 20, 48, 12*16/21)\n",
        "end_x, end_y = end_group(2, 12, 20*12, 12*16/12)\n",
        "edge_x, edge_y = support_group(9, 2, 24, 16*12)\n",
        "side_x, side_y = side_group(5, 6, 48, 30)\n",
        "# side_x = [] # If your diaphragm has no side-lap fasteners, you can use [], which represent blank.\n",
        "# side_y = [] # If your diaphragm has no side-lap fasteners, you can use [], which represent blank.\n",
        "\n",
        "\n",
        "\n",
        "support_x = support_x + end_x + edge_x # Interior, end, edge supports are arc-spot welds, so the three types of supports are considered the same, support fasteners.\n",
        "support_y = support_y + end_y + edge_y\n",
        "\n",
        "\n",
        "\n",
        "\n",
        "\n"
      ]
    },
    {
      "cell_type": "code",
      "source": [
        "# Once you have established the coordinates of your diaphragm, you will need specific data from the load-deformation curves of screws and arc-spot welds. The required data points are: maximum load, stiffness, and maximum deformation.\n",
        "# We provide the load-deformation information for screws and arc-spot welds with varying geometric parameters. Choose the data that matches the fasteners in your diaphragm.\n",
        "\n",
        "\n",
        "# Load-deformation information of side-lap fasteners\n",
        "# screw with  t= 0.034 in, d= 0.19in\n",
        "P_f_side = 0.75  # max load, kips\n",
        "k_side = 35.97 # stiffness, kips/in\n",
        "\n",
        "# screw with t= 0.047 in, d= 0.19 in\n",
        "# k_side = 41.54 # kips/in\n",
        "# P_f_side = 1.22 # kips\n",
        "\n",
        "# max deformation of screws\n",
        "delta_f_side = 0.121 # in\n",
        "\n",
        "# Load-deformation information of arc spot welds\n",
        "# arc spot welds with t=0.0299 in, d = 5/8 in\n",
        "# P_f_arc = 1.81 # max load, kips\n",
        "# k_arc = 44 stiffness # kip/in\n",
        "\n",
        "# arc spot welds with t=0.034 in, d=5/8 in\n",
        "# P_f_arc = 2.2 # max load, kips\n",
        "# k_arc = 48 # stiffness, kip/in\n",
        "\n",
        "# arc spot welds with t=0.046 in, d=5/8 in\n",
        "# P_f_arc = 3.24 # max load, kips\n",
        "# k_arc = 55 # stiffness, kip/in\n",
        "\n",
        "# arc spot welds with t=0.057 in, d=5/8 in\n",
        "# P_f_arc = 4.19 # max load, kips\n",
        "# k_arc = 47 # stiffness, kip/in\n",
        "\n",
        "# arc spot welds with t=0.046 in, d= 3/4 in\n",
        "P_f_arc = 4 # kips # max load\n",
        "k_arc = 36.07 # stiffness, kip/in\n",
        "\n",
        "# arc spot welds with t=0.0299 in, d= 3/4 in\n",
        "# P_f_arc = 1.85 # max load, kips\n",
        "# k_arc = 32.542 # stiffness, kip/in\n",
        "\n",
        "# maximum deformation of arc spot welds, we assumed 0.12 inch based on Snow and Easterling (2008)\n",
        "delta_f_arc = 0.12 # in\n",
        "\n",
        "\n"
      ],
      "metadata": {
        "id": "EXeKEG60x57t"
      },
      "execution_count": null,
      "outputs": []
    },
    {
      "cell_type": "code",
      "source": [
        "# Once you determine the coordinates of the fasteners in your diaphragm, you can get the strength of the diaphragm.\n",
        "\n",
        "test = IC(support_x, support_y, side_x, side_y, k_arc,\n",
        "          delta_f_arc, P_f_arc, k_side, delta_f_side, P_f_side, 0, 16*12/2, 90)\n",
        "\n",
        "\n",
        "\n",
        "\n",
        "\n"
      ],
      "metadata": {
        "id": "rsBqwxM3shKC"
      },
      "execution_count": null,
      "outputs": []
    },
    {
      "cell_type": "code",
      "source": [],
      "metadata": {
        "id": "USc3ZPNLsikc"
      },
      "execution_count": null,
      "outputs": []
    }
  ]
}