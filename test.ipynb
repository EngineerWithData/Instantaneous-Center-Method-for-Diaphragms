{
  "nbformat": 4,
  "nbformat_minor": 0,
  "metadata": {
    "colab": {
      "provenance": [],
      "include_colab_link": true
    },
    "kernelspec": {
      "name": "python3",
      "display_name": "Python 3"
    },
    "language_info": {
      "name": "python"
    }
  },
  "cells": [
    {
      "cell_type": "markdown",
      "metadata": {
        "id": "view-in-github",
        "colab_type": "text"
      },
      "source": [
        "<a href=\"https://colab.research.google.com/github/hyeyoungkoh/Instantaneous-Center-Method-for-Diaphragms/blob/main/test.ipynb\" target=\"_parent\"><img src=\"https://colab.research.google.com/assets/colab-badge.svg\" alt=\"Open In Colab\"/></a>"
      ]
    },
    {
      "cell_type": "markdown",
      "source": [
        "# **Import packages**"
      ],
      "metadata": {
        "id": "5MvFmGOBRNV-"
      }
    },
    {
      "cell_type": "code",
      "execution_count": null,
      "metadata": {
        "id": "5gng2Hp4rldp",
        "colab": {
          "base_uri": "https://localhost:8080/"
        },
        "outputId": "935d330f-3f39-4bb1-9ca2-20b43af59c77"
      },
      "outputs": [
        {
          "output_type": "stream",
          "name": "stdout",
          "text": [
            "Mounted at /content/drive\n",
            "Cloning into 'Instantaneous-Center-Method-for-Diaphragms'...\n",
            "remote: Enumerating objects: 35, done.\u001b[K\n",
            "remote: Counting objects: 100% (35/35), done.\u001b[K\n",
            "remote: Compressing objects: 100% (30/30), done.\u001b[K\n",
            "remote: Total 35 (delta 13), reused 0 (delta 0), pack-reused 0\u001b[K\n",
            "Receiving objects: 100% (35/35), 34.01 KiB | 8.50 MiB/s, done.\n",
            "Resolving deltas: 100% (13/13), done.\n",
            "/content/Instantaneous-Center-Method-for-Diaphragms\n"
          ]
        }
      ],
      "source": [
        "from google.colab import drive\n",
        "drive.mount('/content/drive')\n",
        "!git clone https://github.com/hyeyoungkoh/Instantaneous-Center-Method-for-Diaphragms.git\n",
        "%cd Instantaneous-Center-Method-for-Diaphragms\n",
        "from group import *\n",
        "from IC import *\n",
        "import matplotlib.pyplot as plt\n",
        "import numpy as np\n"
      ]
    },
    {
      "cell_type": "markdown",
      "source": [
        "# **Fastener Layout**"
      ],
      "metadata": {
        "id": "v0id4izlRPNw"
      }
    },
    {
      "cell_type": "code",
      "source": [
        "# To estimate the shear strength of a diaphragm that includes fasteners, you first need to obtain the coordinates of those fasteners.\n",
        "# The 'group.py' file offers group functions to assist with this task. It includes: 'support_group' for interior support fasteners; 'end_group' for end support fasteners; 'edge_group' for edge support fasteners; and 'side_group' for side-lap fasteners.\n",
        "# For comparison, we utilized data from 7 specimens in the SDII database: Pinkham (1999) covers specimens 50 through 54, and Essa (2003) includes specimens 11 and 15. You can select any of these examples to acquire the coordinates for the fasteners in the respective specimens.\n",
        "# To manually obtain the coordinates of the fasteners, input values into the group functions. Each function requires four inputs:  Number of columns, Number of rows, Column spacing, Row spacing.\n",
        "\n",
        "# #Pinkham 50, 51\n",
        "# interior_x, interior_y = support_group(2,31,5*12,6)\n",
        "# end_x,end_y = end_group(2,25,15*12,15*12/26)\n",
        "# edge_x, edge_y = support_group(18, 2, 10, 15*12)\n",
        "# side_x, side_y = side_group(27, 4, 15*12/28, 36)\n",
        "\n",
        "#Pinkham 52, 54\n",
        "# interior_x, interior_y = support_group(1,22,10*12,21*12/23)\n",
        "# end_x, end_y = end_group(2,14,20*12,21*12/15)\n",
        "# edge_x, edge_y = support_group(18, 2, 20*12/19, 21*12)\n",
        "# side_x, side_y = side_group(8, 6, 20*12/9, 36)\n",
        "\n",
        "#Pinkham 53\n",
        "# interior_x, interior_y = support_group(1,43,10*12,21*12/44)\n",
        "# end_x,end_y = end_group(2,35,20*12,21*12/36)\n",
        "# edge_x, edge_y = support_group(18, 2, 20*12/19, 21*12)\n",
        "# side_x, side_y = side_group(8, 6, 20*12/9, 36)\n",
        "\n",
        "#Essa 11, 15\n",
        "# interior_x, interior_y = support_group(3, 13, 12*5, 12)\n",
        "# end_x,end_y = end_group(2, 8, 20*12, 12*12/9)\n",
        "# edge_x, edge_y = edge_group(16, 2, 20*12/17, 12*12)\n",
        "# side_x, side_y = side_group(16, 3, 20*12/17, 36)\n",
        "\n",
        "#WB 14 in DDM 1st Ed, no side-lap fasteners\n",
        "interior_x, interior_y = support_group(3, 17, 60, 12)\n",
        "end_x, end_y = end_group(2, 8, 20*12, 24)\n",
        "# edge_x, edge_y = support_group(3, 2, 24, 16*12)\n",
        "edge_x = []\n",
        "edge_y = []\n",
        "# side_x, side_y = side_group(5, 6, 48, 30)\n",
        "side_x = [] # If your diaphragm has no side-lap fasteners, you can use [], which represent blank.\n",
        "side_y = [] # If your diaphragm has no side-lap fasteners, you can use [], which represent blank.\n",
        "\n",
        "support_x = interior_x + end_x + edge_x # Interior, end, edge supports are arc-spot welds, so the three types of supports are considered the same, support fasteners.\n",
        "support_y = interior_y + end_y + edge_y\n",
        "\n",
        "\n"
      ],
      "metadata": {
        "id": "wGIZwbu8b641"
      },
      "execution_count": null,
      "outputs": []
    },
    {
      "cell_type": "markdown",
      "source": [
        "# **Fastener Layout**"
      ],
      "metadata": {
        "id": "9I1E3SpRRQ5I"
      }
    },
    {
      "cell_type": "code",
      "source": [
        "# Print a diagram for fasteners in a diaphragm\n",
        "\n",
        "plt.scatter(interior_x,interior_y, label = 'interior')\n",
        "plt.scatter(end_x,end_y, label='end')\n",
        "plt.scatter(edge_x,edge_y,label='edge')\n",
        "plt.scatter(side_x,side_y,label='side')\n",
        "plt.plot([end_x[0],end_x[0]],[interior_y[-1],interior_y[0]], c='k', linewidth=0.5)\n",
        "plt.plot([end_x[0],end_x[-1]],[interior_y[0],interior_y[0]], c='k', linewidth=0.5)\n",
        "plt.plot([end_x[-1],end_x[0]],[interior_y[-1],interior_y[-1]], c='k', linewidth=0.5)\n",
        "plt.plot([end_x[-1],end_x[-1]],[interior_y[-1],interior_y[0]], c='k', linewidth=0.5)\n",
        "\n",
        "\n",
        "plt.xlim(-180,180)\n",
        "plt.ylim(-150,150)\n",
        "plt.xlabel('Length, inch')\n",
        "plt.ylabel('Width, inch')\n",
        "plt.legend(ncol=2)\n",
        "plt.show()"
      ],
      "metadata": {
        "colab": {
          "base_uri": "https://localhost:8080/",
          "height": 455
        },
        "id": "LA0y2E0PXpqP",
        "outputId": "0e8f505c-264a-4162-a76a-50ef9831a568"
      },
      "execution_count": null,
      "outputs": [
        {
          "output_type": "display_data",
          "data": {
            "text/plain": [
              "<Figure size 640x480 with 1 Axes>"
            ],
            "image/png": "[encoded data removed]"
          },
          "metadata": {}
        }
      ]
    },
    {
      "cell_type": "markdown",
      "source": [
        "# **Load-Deformation Inputs for Arc-Spot Welds and Screws**"
      ],
      "metadata": {
        "id": "1aE0nIRSXdi5"
      }
    },
    {
      "cell_type": "code",
      "source": [
        "# After determining the coordinates of your diaphragm, you'll need specific data from the load-deformation curves of screws and arc-spot welds. The essential data points include maximum load, stiffness, and maximum deformation.\n",
        "# We offer load-deformation details for screws and arc-spot welds with various geometric parameters. Select the data corresponding to the fasteners in your diaphragm.\n",
        "\n",
        "# Load-deformation information of side-lap fasteners\n",
        "# screw with  t= 0.034 in, d= 0.19in\n",
        "P_f_side = 0.75  # max load, kips\n",
        "k_side = 35.97 # stiffness, kips/in\n",
        "\n",
        "# screw with t= 0.047 in, d= 0.19 in\n",
        "# k_side = 41.54 # kips/in\n",
        "# P_f_side = 1.22 # kips\n",
        "\n",
        "# max deformation of screws\n",
        "delta_f_side = 0.121 # in\n",
        "\n",
        "# Load-deformation information of arc spot welds\n",
        "# arc spot welds with t=0.0299 in, d = 5/8 in\n",
        "# P_f_arc = 1.81 # max load, kips\n",
        "# k_arc = 44 stiffness # kip/in\n",
        "\n",
        "# arc spot welds with t=0.034 in, d=5/8 in\n",
        "P_f_arc = 2.2 # max load, kips\n",
        "k_arc = 48 # stiffness, kip/in\n",
        "\n",
        "# arc spot welds with t=0.046 in, d=5/8 in\n",
        "# P_f_arc = 3.24 # max load, kips\n",
        "# k_arc = 55 # stiffness, kip/in\n",
        "\n",
        "# arc spot welds with t=0.057 in, d=5/8 in\n",
        "# P_f_arc = 4.19 # max load, kips\n",
        "# k_arc = 47 # stiffness, kip/in\n",
        "\n",
        "# arc spot welds with t=0.046 in, d= 3/4 in\n",
        "# P_f_arc = 4 # kips # max load\n",
        "# k_arc = 36.07 # stiffness, kip/in\n",
        "\n",
        "# arc spot welds with t=0.0299 in, d= 3/4 in\n",
        "# P_f_arc = 1.85 # max load, kips\n",
        "# k_arc = 32.542 # stiffness, kip/in\n",
        "\n",
        "# maximum deformation of arc spot welds, we assumed 0.12 inch based on Snow and Easterling (2008)\n",
        "delta_f_arc = 0.2 # in\n",
        "\n",
        "\n"
      ],
      "metadata": {
        "id": "EXeKEG60x57t"
      },
      "execution_count": null,
      "outputs": []
    },
    {
      "cell_type": "markdown",
      "source": [
        "# **Calculate Diaphragm Strength**"
      ],
      "metadata": {
        "id": "BCJ_p23BRgDi"
      }
    },
    {
      "cell_type": "code",
      "source": [
        "# Once you determine the coordinates and load-deformation of the fasteners in your diaphragm, you can get the strength of the diaphragm.\n",
        "\n",
        "L = 20 #diaphragm length, ft\n",
        "strength = IC(support_x, support_y, side_x, side_y, k_arc,\n",
        "          delta_f_arc, P_f_arc, k_side, delta_f_side, P_f_side, 0, 16*12/2, 90)\n",
        "\n",
        "print('Shear strength = {:6.2f} kips'.format(strength[2]))\n",
        "print('Shear strength = {:6.2f} kips/ft'.format(strength[2]/L))\n"
      ],
      "metadata": {
        "id": "rsBqwxM3shKC",
        "colab": {
          "base_uri": "https://localhost:8080/"
        },
        "outputId": "f5cbbad2-569e-4f2a-aa48-0f40a0072ff0"
      },
      "execution_count": null,
      "outputs": [
        {
          "output_type": "stream",
          "name": "stdout",
          "text": [
            "Shear strength =  14.61 kips\n",
            "Shear strength =   0.73 kips/ft\n"
          ]
        }
      ]
    },
    {
      "cell_type": "code",
      "source": [],
      "metadata": {
        "id": "USc3ZPNLsikc"
      },
      "execution_count": null,
      "outputs": []
    }
  ]
}