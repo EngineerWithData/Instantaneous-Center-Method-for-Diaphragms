{
  "nbformat": 4,
  "nbformat_minor": 0,
  "metadata": {
    "colab": {
      "provenance": [],
      "include_colab_link": true
    },
    "kernelspec": {
      "name": "python3",
      "display_name": "Python 3"
    },
    "language_info": {
      "name": "python"
    }
  },
  "cells": [
    {
      "cell_type": "markdown",
      "metadata": {
        "id": "view-in-github",
        "colab_type": "text"
      },
      "source": [
        "<a href=\"https://colab.research.google.com/github/hyeyoungkoh/Instantaneous-Center-Method-for-Diaphragms/blob/main/diaphragm_strength.ipynb\" target=\"_parent\"><img src=\"https://colab.research.google.com/assets/colab-badge.svg\" alt=\"Open In Colab\"/></a>"
      ]
    },
    {
      "cell_type": "markdown",
      "source": [
        "# **Import packages**"
      ],
      "metadata": {
        "id": "5MvFmGOBRNV-"
      }
    },
    {
      "cell_type": "code",
      "execution_count": null,
      "metadata": {
        "id": "5gng2Hp4rldp",
        "colab": {
          "base_uri": "https://localhost:8080/"
        },
        "outputId": "1d7d84aa-12ce-4d57-8871-5a0d9f7c0f45",
        "is_executing": true
      },
      "outputs": [
        {
          "output_type": "stream",
          "name": "stdout",
          "text": [
            "Mounted at /content/drive\n",
            "Cloning into 'Instantaneous-Center-Method-for-Diaphragms'...\n",
            "remote: Enumerating objects: 56, done.\u001b[K\n",
            "remote: Counting objects: 100% (56/56), done.\u001b[K\n",
            "remote: Compressing objects: 100% (51/51), done.\u001b[K\n",
            "remote: Total 56 (delta 25), reused 0 (delta 0), pack-reused 0\u001b[K\n",
            "Receiving objects: 100% (56/56), 64.34 KiB | 928.00 KiB/s, done.\n",
            "Resolving deltas: 100% (25/25), done.\n",
            "/content/Instantaneous-Center-Method-for-Diaphragms\n"
          ]
        }
      ],
      "source": [
        "from google.colab import drive\n",
        "drive.mount('/content/drive')\n",
        "!git clone https://github.com/hyeyoungkoh/Instantaneous-Center-Method-for-Diaphragms.git\n",
        "%cd Instantaneous-Center-Method-for-Diaphragms\n",
        "from group import *\n",
        "from IC import *\n",
        "import matplotlib.pyplot as plt\n",
        "import numpy as np\n"
      ]
    },
    {
      "cell_type": "markdown",
      "source": [
        "# **<font color='red'>Get Fastener Layout</font>**\n",
        "To estimate the shear strength of a diaphragm with fasteners, you first need the coordinates of those fasteners. 'group.py' provides four different group functions:\n",
        "1. 'support_group' for interior support fasteners\n",
        "2. 'end_group' for end support fasteners\n",
        "3. 'edge_group' for edge support fasteners\n",
        "4. 'side_group' for side-lap fasteners.\n",
        "To manually obtain the coordinates, input values into the group functions. Each function requires four inputs: Number of columns, Number of rows, Column spacing, Row spacing.\n"
      ],
      "metadata": {
        "id": "v0id4izlRPNw"
      }
    },
    {
      "cell_type": "code",
      "source": [
        "#WB 14 in DDM 1st Ed, no side-lap fasteners\n",
        "interior_x, interior_y = support_group(3, 17, 60, 12)\n",
        "end_x, end_y = end_group(2, 8, 20*12, 24)\n",
        "# edge_x, edge_y = support_group(3, 2, 24, 16*12)\n",
        "edge_x = []\n",
        "edge_y = []\n",
        "# side_x, side_y = side_group(5, 6, 48, 30)\n",
        "side_x = [] # If your diaphragm has no side-lap fasteners, you can use [], which represent blank.\n",
        "side_y = [] # If your diaphragm has no side-lap fasteners, you can use [], which represent blank.\n",
        "\n",
        "support_x = interior_x + end_x + edge_x # Interior, end, edge supports are arc-spot welds, so the three types of supports are considered the same, support fasteners.\n",
        "support_y = interior_y + end_y + edge_y\n",
        "\n",
        "\n"
      ],
      "metadata": {
        "id": "wGIZwbu8b641"
      },
      "execution_count": null,
      "outputs": []
    },
    {
      "cell_type": "markdown",
      "source": [
        "**Fastener Layout Example**\\\n",
        " Seven specimens from the SDII database are provided as layout examples: Pinkham (1999) Specimens 50 through 54 and Essa (2003) Specimens 11 and 15. You can select any of these examples to get the coordinates of the fasteners."
      ],
      "metadata": {
        "id": "G_ORFzhdfQ4W"
      }
    },
    {
      "cell_type": "code",
      "source": [
        "# #Pinkham (1999) 50, 51\n",
        "# interior_x, interior_y = support_group(2,31,5*12,6)\n",
        "# end_x,end_y = end_group(2,25,15*12,15*12/26)\n",
        "# edge_x, edge_y = support_group(18, 2, 10, 15*12)\n",
        "# side_x, side_y = side_group(27, 4, 15*12/28, 36)\n",
        "\n",
        "#Pinkham (1999) 52, 54\n",
        "# interior_x, interior_y = support_group(1,22,10*12,21*12/23)\n",
        "# end_x, end_y = end_group(2,14,20*12,21*12/15)\n",
        "# edge_x, edge_y = support_group(18, 2, 20*12/19, 21*12)\n",
        "# side_x, side_y = side_group(8, 6, 20*12/9, 36)\n",
        "\n",
        "#Pinkham (1999) 53\n",
        "# interior_x, interior_y = support_group(1,43,10*12,21*12/44)\n",
        "# end_x,end_y = end_group(2,35,20*12,21*12/36)\n",
        "# edge_x, edge_y = support_group(18, 2, 20*12/19, 21*12)\n",
        "# side_x, side_y = side_group(8, 6, 20*12/9, 36)\n",
        "\n",
        "#Essa (2003) 11, 15\n",
        "# interior_x, interior_y = support_group(3, 13, 12*5, 12)\n",
        "# end_x,end_y = end_group(2, 8, 20*12, 12*12/9)\n",
        "# edge_x, edge_y = edge_group(16, 2, 20*12/17, 12*12)\n",
        "# side_x, side_y = side_group(16, 3, 20*12/17, 36)\n"
      ],
      "metadata": {
        "id": "hm862weUfQWI"
      },
      "execution_count": null,
      "outputs": []
    },
    {
      "cell_type": "markdown",
      "source": [
        "# **Illustrate Fastener Layout**\n",
        "You can print out a diaphragm diagram with fasteners by using the codes below."
      ],
      "metadata": {
        "id": "9I1E3SpRRQ5I"
      }
    },
    {
      "cell_type": "code",
      "source": [
        "plt.scatter(interior_x,interior_y, label = 'interior')\n",
        "plt.scatter(end_x,end_y, label='end')\n",
        "plt.scatter(edge_x,edge_y,label='edge')\n",
        "plt.scatter(side_x,side_y,label='side')\n",
        "plt.plot([end_x[0],end_x[0]],[interior_y[-1],interior_y[0]], c='k', linewidth=0.5)\n",
        "plt.plot([end_x[0],end_x[-1]],[interior_y[0],interior_y[0]], c='k', linewidth=0.5)\n",
        "plt.plot([end_x[-1],end_x[0]],[interior_y[-1],interior_y[-1]], c='k', linewidth=0.5)\n",
        "plt.plot([end_x[-1],end_x[-1]],[interior_y[-1],interior_y[0]], c='k', linewidth=0.5)\n",
        "\n",
        "plt.xlim(-180,180)\n",
        "plt.ylim(-150,150)\n",
        "plt.xlabel('Length, inch')\n",
        "plt.ylabel('Width, inch')\n",
        "plt.legend(ncol=2)\n",
        "plt.show()"
      ],
      "metadata": {
        "colab": {
          "base_uri": "https://localhost:8080/",
          "height": 455
        },
        "id": "LA0y2E0PXpqP",
        "outputId": "cd7e080c-bdaf-4061-abe6-1f215d0d032e"
      },
      "execution_count": null,
      "outputs": [
        {
          "output_type": "display_data",
          "data": {
            "text/plain": [
              "<Figure size 640x480 with 1 Axes>"
            ],
            "image/png": "[encoded data removed]"
          },
          "metadata": {}
        }
      ]
    },
    {
      "cell_type": "markdown",
      "source": [
        "# **<font color='red'>Get Load-Deformation Inputs for Screws and Arc-Spot Welds</font>**\n",
        "After determining the fastener layout of your diaphragm, you need load-deformation inputs for screws and arc-spot welds. These inputs include maximum load, stiffness, and maximum deformation. We offer load-deformation inputs for screws and arc-spot welds based on sheet thickness and diameter. The inputs were based on the load-deformation curves given in Snow and Easterling (2008) and Moen et al. (2014). Select geometries appropriate to your diaphragm. \\\n",
        "\n",
        "For **screws**, available thickenss (t_s) and diameter (d_s) pairs include:\\\n",
        "(0.034, 0.19), (0.047, 0.19) \\\n",
        "For **arc-spot welds**, available thickenss (t_a) and diameter (d_a) pairs include:\\\n",
        "(0.0299, 5/8), (0.034, 5/8), (0.046, 5/8), (0.057, 5/8), (0.046, 3/4), (0.0299, 3/4)\n",
        "\n",
        "\n"
      ],
      "metadata": {
        "id": "1aE0nIRSXdi5"
      }
    },
    {
      "cell_type": "code",
      "source": [
        "t_s, d_s = (0.034, 0.19)\n",
        "t_a, d_a = (0.0299, 5/8)"
      ],
      "metadata": {
        "id": "EAAK2n08l-pF"
      },
      "execution_count": null,
      "outputs": []
    },
    {
      "cell_type": "markdown",
      "source": [
        "**Generate load-deformation inputs**"
      ],
      "metadata": {
        "id": "jYPLMSM-m-A2"
      }
    },
    {
      "cell_type": "code",
      "source": [
        "# Load-deformation information of screw\n",
        "if t_s == 0.034 and d_s == 0.19:\n",
        "    P_f_side = 0.75  # max load, kips\n",
        "    k_side = 35.97 # stiffness, kips/in\n",
        "\n",
        "elif t_s == 0.047 and d_s ==0.19:\n",
        "    k_side = 41.54 # kips/in\n",
        "    P_f_side = 1.22 # kips\n",
        "\n",
        "delta_f_side = 0.121 # in, max deformation of screws\n",
        "\n",
        "# Load-deformation information of arc spot welds\n",
        "if t_a == 0.0299 and d_a == 5/8:\n",
        "    P_f_arc = 1.81 # max load, kips\n",
        "    k_arc = 44 # stiffness, kip/in\n",
        "\n",
        "elif t_a == 0.034 and d_a == 5/8:\n",
        "    P_f_arc = 2.2 # max load, kips\n",
        "    k_arc = 48 # stiffness, kip/in\n",
        "\n",
        "elif t_a == 0.046 and d_a == 5/8:\n",
        "    P_f_arc = 3.24 # max load, kips\n",
        "    k_arc = 55 # stiffness, kip/in\n",
        "\n",
        "elif t_a == 0.057 and d_a == 5/8:\n",
        "    P_f_arc = 4.19 # max load, kips\n",
        "    k_arc = 47 # stiffness, kip/in\n",
        "\n",
        "elif t_a == 0.046 and d_a == 3/4:\n",
        "    P_f_arc = 4 # kips # max load\n",
        "    k_arc = 36.07 # stiffness, kip/in\n",
        "\n",
        "elif t_a == 0.0299 and d_a == 3/4:\n",
        "    P_f_arc = 1.85 # max load, kips\n",
        "    k_arc = 32.542 # stiffness, kip/in\n",
        "\n",
        "# maximum deformation of arc spot welds, we assumed 0.12 inch based on Snow and Easterling (2008)\n",
        "delta_f_arc = 0.12 # in"
      ],
      "metadata": {
        "id": "EXeKEG60x57t"
      },
      "execution_count": null,
      "outputs": []
    },
    {
      "cell_type": "markdown",
      "source": [
        "# **<font color='red'>Get Diaphragm Length (L) and Width (W) in ft</font>**"
      ],
      "metadata": {
        "id": "wUpA_aAPnsEL"
      }
    },
    {
      "cell_type": "code",
      "source": [
        "L = 20 #diaphragm length, ft\n",
        "W = 16 #diaphragm width, ft"
      ],
      "metadata": {
        "id": "j4mJwhy9ncc5"
      },
      "execution_count": null,
      "outputs": []
    },
    {
      "cell_type": "markdown",
      "source": [
        "# **Calculate Diaphragm Strength**\n",
        "Once you have obtained the required information (the fastener layout, load-deformation data, diaphragm dimensions), you can determine the diaphragm strength.\n"
      ],
      "metadata": {
        "id": "BCJ_p23BRgDi"
      }
    },
    {
      "cell_type": "code",
      "source": [
        "strength = IC(support_x, support_y, side_x, side_y, k_arc,\n",
        "          delta_f_arc, P_f_arc, k_side, delta_f_side, P_f_side, 0, W*12/2, 90)\n",
        "\n",
        "print('Shear strength = {:6.2f} kips'.format(strength[2]))\n",
        "print('Shear strength = {:6.2f} kips/ft'.format(strength[2]/L))\n"
      ],
      "metadata": {
        "id": "rsBqwxM3shKC",
        "colab": {
          "base_uri": "https://localhost:8080/"
        },
        "outputId": "2ca85e25-8ccb-41c6-98f3-d5c0c2821298"
      },
      "execution_count": null,
      "outputs": [
        {
          "output_type": "stream",
          "name": "stdout",
          "text": [
            "Shear strength =  18.09 kips\n",
            "Shear strength =   0.90 kips/ft\n"
          ]
        }
      ]
    }
  ]
}